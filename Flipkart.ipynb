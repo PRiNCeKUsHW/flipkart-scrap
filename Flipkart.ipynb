{
 "cells": [
  {
   "cell_type": "code",
   "execution_count": 102,
   "id": "45c4ffc8",
   "metadata": {},
   "outputs": [],
   "source": [
    "import pandas as pd\n",
    "import requests\n",
    "from bs4 import BeautifulSoup\n",
    "\n",
    "productname = []\n",
    "\n",
    "productprice = []\n",
    "\n",
    "description= []\n",
    "\n",
    "review = []\n",
    "\n",
    "for i in range(1,10):\n",
    "    url = \"https://www.flipkart.com/search?q=mobile+under+50000&otracker=search&otracker1=search&marketplace=FLIPKART&as-show=on&as=off&page=\"+str(i)\n",
    "    \n",
    "    r = requests.get(url)\n",
    "    \n",
    "    soup = BeautifulSoup(r.text,\"lxml\")\n",
    "    \n",
    "    box = soup.find('div',class_='_1YokD2 _3Mn1Gg')\n",
    "    \n",
    "    names = box.find_all('div', class_ =\"_4rR01T\" )\n",
    "    for i in names:\n",
    "        name=i.text\n",
    "        productname.append(name)\n",
    "    \n",
    "    prices = box.find_all('div', class_ =\"_30jeq3 _1_WHN1\" )\n",
    "    for i in prices:\n",
    "        price = i.text\n",
    "        productprice.append(price)\n",
    "        \n",
    "    desc = box.find_all('ul', class_ = '_1xgFaf')\n",
    "    for i in desc:\n",
    "        name=i.text\n",
    "        description.append(name)\n",
    "    \n",
    "    reviews = box.find_all('div',class_='_3LWZlK')\n",
    "    for i in reviews:\n",
    "        name=i.text\n",
    "        review.append(name)\n",
    "\n",
    "        \n",
    "df = pd.DataFrame({'Product Name':productname,'Price':productprice,'Description':description,'Review':review})\n",
    "\n",
    "    \n",
    "    \n"
   ]
  },
  {
   "cell_type": "code",
   "execution_count": 104,
   "id": "6e4cbc1c",
   "metadata": {},
   "outputs": [],
   "source": [
    "df.to_csv('flipkart mobile under 50000.csv')"
   ]
  },
  {
   "cell_type": "code",
   "execution_count": null,
   "id": "f847ead1",
   "metadata": {},
   "outputs": [],
   "source": []
  }
 ],
 "metadata": {
  "kernelspec": {
   "display_name": "Python 3 (ipykernel)",
   "language": "python",
   "name": "python3"
  },
  "language_info": {
   "codemirror_mode": {
    "name": "ipython",
    "version": 3
   },
   "file_extension": ".py",
   "mimetype": "text/x-python",
   "name": "python",
   "nbconvert_exporter": "python",
   "pygments_lexer": "ipython3",
   "version": "3.11.0"
  }
 },
 "nbformat": 4,
 "nbformat_minor": 5
}
